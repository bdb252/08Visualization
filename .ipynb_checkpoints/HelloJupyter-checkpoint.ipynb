{
 "cells": [
  {
   "cell_type": "code",
   "execution_count": 6,
   "id": "6a953529-4d8b-4798-b478-bfbd735c51c1",
   "metadata": {},
   "outputs": [
    {
     "name": "stdout",
     "output_type": "stream",
     "text": [
      "Hello Jupyter!\n"
     ]
    }
   ],
   "source": [
    "print('Hello Jupyter!')"
   ]
  },
  {
   "cell_type": "code",
   "execution_count": 10,
   "id": "991003eb-3cc7-451b-91ff-9ef8d29c1ba9",
   "metadata": {},
   "outputs": [
    {
     "name": "stdout",
     "output_type": "stream",
     "text": [
      "ctrl+enter\n"
     ]
    }
   ],
   "source": [
    "print('ctrl+enter')\n",
    "# 현재 셀 실행하기. 셀의 이동 없음"
   ]
  },
  {
   "cell_type": "code",
   "execution_count": 12,
   "id": "eaf35467-2c1c-4c5f-a5a6-e467ef1bdc65",
   "metadata": {},
   "outputs": [
    {
     "name": "stdout",
     "output_type": "stream",
     "text": [
      "shift+enter\n"
     ]
    }
   ],
   "source": [
    "print('shift+enter')\n",
    "# 현재 셀 실행 후 다음 셀로 이동하기. 만약 다음 셀이 없다면 생성한다. \n",
    "# 다음 셀이 있다면 포커스만 이동한다. "
   ]
  },
  {
   "cell_type": "code",
   "execution_count": 14,
   "id": "0140a810-8fa3-4e29-b08c-686e8fa2b26b",
   "metadata": {},
   "outputs": [
    {
     "name": "stdout",
     "output_type": "stream",
     "text": [
      "alt+enter\n"
     ]
    },
    {
     "data": {
      "text/plain": [
       "'\\n현재 셀을 실행한 후 다음에 셀을 생성한다. 만약 다음 셀이 있다면 \\n중간에 새로운 셀을 생성한다. \\n'"
      ]
     },
     "execution_count": 14,
     "metadata": {},
     "output_type": "execute_result"
    }
   ],
   "source": [
    "print('alt+enter')\n",
    "\n",
    "# 현재 셀을 실행한 후 다음에 셀을 생성한다. 만약 다음 셀이 있다면 \n",
    "# 중간에 새로운 셀을 생성한다. "
   ]
  }
 ],
 "metadata": {
  "kernelspec": {
   "display_name": "Python 3 (ipykernel)",
   "language": "python",
   "name": "python3"
  },
  "language_info": {
   "codemirror_mode": {
    "name": "ipython",
    "version": 3
   },
   "file_extension": ".py",
   "mimetype": "text/x-python",
   "name": "python",
   "nbconvert_exporter": "python",
   "pygments_lexer": "ipython3",
   "version": "3.13.2"
  }
 },
 "nbformat": 4,
 "nbformat_minor": 5
}
